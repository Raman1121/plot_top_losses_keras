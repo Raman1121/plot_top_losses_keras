{
 "cells": [
  {
   "cell_type": "code",
   "execution_count": 0,
   "metadata": {
    "colab": {},
    "colab_type": "code",
    "id": "bOyfHWOiC1P1"
   },
   "outputs": [],
   "source": [
    "from tensorflow.keras import models, layers, datasets\n",
    "import tensorflow as tf\n",
    "import matplotlib.pyplot as plt\n",
    "import math\n",
    "import numpy as np"
   ]
  },
  {
   "cell_type": "code",
   "execution_count": 0,
   "metadata": {
    "colab": {},
    "colab_type": "code",
    "id": "2CSyefTDDD4a"
   },
   "outputs": [],
   "source": [
    "(train_images, train_labels), (test_images, test_labels) = datasets.mnist.load_data()\n",
    "# Normalize pixel values to be between 0 and 1\n",
    "train_images, test_images = train_images / 255.0, test_images / 255.0"
   ]
  },
  {
   "cell_type": "code",
   "execution_count": 17,
   "metadata": {
    "colab": {
     "base_uri": "https://localhost:8080/",
     "height": 34
    },
    "colab_type": "code",
    "id": "-CRv5ndYJPfy",
    "outputId": "c4d45109-0559-4ee0-d9c2-b3ec79873ef7"
   },
   "outputs": [
    {
     "data": {
      "text/plain": [
       "(60000, 28, 28, 1)"
      ]
     },
     "execution_count": 17,
     "metadata": {
      "tags": []
     },
     "output_type": "execute_result"
    }
   ],
   "source": [
    "train_images = train_images[..., tf.newaxis]\n",
    "test_images = test_images[..., tf.newaxis]\n",
    "train_images.shape"
   ]
  },
  {
   "cell_type": "code",
   "execution_count": 0,
   "metadata": {
    "colab": {},
    "colab_type": "code",
    "id": "lMui00hAEKZp"
   },
   "outputs": [],
   "source": [
    "model = models.Sequential()\n",
    "model.add(layers.Conv2D(32, (3, 3), activation='relu', input_shape=(28, 28, 1)))\n",
    "model.add(layers.MaxPooling2D((2, 2)))\n",
    "model.add(layers.Conv2D(64, (3, 3), activation='relu'))\n",
    "model.add(layers.MaxPooling2D((2, 2)))\n",
    "model.add(layers.Conv2D(64, (3, 3), activation='relu'))\n",
    "model.add(layers.Flatten())\n",
    "model.add(layers.Dense(64, activation='relu'))\n",
    "model.add(layers.Dense(10))\n",
    "model.add(layers.Softmax())"
   ]
  },
  {
   "cell_type": "code",
   "execution_count": 72,
   "metadata": {
    "colab": {
     "base_uri": "https://localhost:8080/",
     "height": 459
    },
    "colab_type": "code",
    "id": "-8UXzJ3SJL0N",
    "outputId": "c3e23940-0959-412e-d28b-d473b50797ba"
   },
   "outputs": [
    {
     "name": "stdout",
     "output_type": "stream",
     "text": [
      "Model: \"sequential_5\"\n",
      "_________________________________________________________________\n",
      "Layer (type)                 Output Shape              Param #   \n",
      "=================================================================\n",
      "conv2d_13 (Conv2D)           (None, 26, 26, 32)        320       \n",
      "_________________________________________________________________\n",
      "max_pooling2d_8 (MaxPooling2 (None, 13, 13, 32)        0         \n",
      "_________________________________________________________________\n",
      "conv2d_14 (Conv2D)           (None, 11, 11, 64)        18496     \n",
      "_________________________________________________________________\n",
      "max_pooling2d_9 (MaxPooling2 (None, 5, 5, 64)          0         \n",
      "_________________________________________________________________\n",
      "conv2d_15 (Conv2D)           (None, 3, 3, 64)          36928     \n",
      "_________________________________________________________________\n",
      "flatten_2 (Flatten)          (None, 576)               0         \n",
      "_________________________________________________________________\n",
      "dense_4 (Dense)              (None, 64)                36928     \n",
      "_________________________________________________________________\n",
      "dense_5 (Dense)              (None, 10)                650       \n",
      "_________________________________________________________________\n",
      "softmax (Softmax)            (None, 10)                0         \n",
      "=================================================================\n",
      "Total params: 93,322\n",
      "Trainable params: 93,322\n",
      "Non-trainable params: 0\n",
      "_________________________________________________________________\n"
     ]
    }
   ],
   "source": [
    "model.summary()\n"
   ]
  },
  {
   "cell_type": "code",
   "execution_count": 73,
   "metadata": {
    "colab": {
     "base_uri": "https://localhost:8080/",
     "height": 153
    },
    "colab_type": "code",
    "id": "aYUIYgIMJsmx",
    "outputId": "4d7f69a9-af8a-4f22-c103-70616c8c844c"
   },
   "outputs": [
    {
     "name": "stdout",
     "output_type": "stream",
     "text": [
      "Epoch 1/4\n",
      "1875/1875 [==============================] - 57s 31ms/step - loss: 1.6116 - accuracy: 0.8511 - val_loss: 1.5725 - val_accuracy: 0.8869\n",
      "Epoch 2/4\n",
      "1875/1875 [==============================] - 54s 29ms/step - loss: 1.5351 - accuracy: 0.9255 - val_loss: 1.4806 - val_accuracy: 0.9809\n",
      "Epoch 3/4\n",
      "1875/1875 [==============================] - 54s 29ms/step - loss: 1.4803 - accuracy: 0.9813 - val_loss: 1.4799 - val_accuracy: 0.9814\n",
      "Epoch 4/4\n",
      "1875/1875 [==============================] - 54s 29ms/step - loss: 1.4779 - accuracy: 0.9834 - val_loss: 1.4769 - val_accuracy: 0.9839\n"
     ]
    }
   ],
   "source": [
    "model.compile(optimizer='adam',\n",
    "              loss=tf.keras.losses.SparseCategoricalCrossentropy(from_logits=True),\n",
    "              metrics=['accuracy'])\n",
    "\n",
    "history = model.fit(train_images, train_labels, epochs=4, \n",
    "                    validation_data=(test_images, test_labels))"
   ]
  },
  {
   "cell_type": "code",
   "execution_count": 0,
   "metadata": {
    "colab": {},
    "colab_type": "code",
    "id": "WSs6A0_ePmhk"
   },
   "outputs": [],
   "source": [
    "test_pred = model.predict(test_images)"
   ]
  },
  {
   "cell_type": "code",
   "execution_count": 76,
   "metadata": {
    "colab": {
     "base_uri": "https://localhost:8080/",
     "height": 34
    },
    "colab_type": "code",
    "id": "uGUx2CboM2HW",
    "outputId": "1c5520e4-6a19-4492-9743-2f9fad0f0147"
   },
   "outputs": [
    {
     "name": "stdout",
     "output_type": "stream",
     "text": [
      "[1.4611502 1.4611502 1.4611502 ... 1.4611502 1.461151  1.4611502] 10000\n"
     ]
    }
   ],
   "source": [
    "loss = tf.keras.losses.SparseCategoricalCrossentropy(from_logits=True,reduction=tf.keras.losses.Reduction.NONE)\n",
    "loss_values = loss(test_labels,test_pred).numpy()\n",
    "print(loss_values,len(loss_values))"
   ]
  },
  {
   "cell_type": "code",
   "execution_count": 0,
   "metadata": {
    "colab": {},
    "colab_type": "code",
    "id": "jQJDexQzQKTL"
   },
   "outputs": [],
   "source": [
    "def plot_top_losses(actual, pred, k=9, figsize=(10,10)):\n",
    "  loss_values = loss(actual,pred).numpy()\n",
    "  top_k = loss_values.argsort()[-k:][::-1]\n",
    "  cols = math.ceil(math.sqrt(k))\n",
    "  rows = math.ceil(k/cols)\n",
    "  fig,axes = plt.subplots(rows, cols, figsize=figsize)\n",
    "  fig.suptitle('Prediction/Actual/Loss/Prediction_Probability', weight='bold', size=14)\n",
    "  i =0\n",
    "  for index in top_k:\n",
    "    image = test_images[index]\n",
    "    actual = test_labels[index]\n",
    "    loss_value = loss_values[index]\n",
    "    predicted = np.argmax(test_pred[index])\n",
    "    prob = pred[index][predicted]\n",
    "    title = f'{predicted}/{actual}/{loss_value:.2f}/{prob:.2f}'\n",
    "    ax = axes.flat[i]\n",
    "    i+=1\n",
    "    image = np.squeeze(image,axis=2)\n",
    "    ax.imshow(image)\n",
    "    ax.set_title(title)"
   ]
  },
  {
   "cell_type": "code",
   "execution_count": 117,
   "metadata": {
    "colab": {
     "base_uri": "https://localhost:8080/",
     "height": 680
    },
    "colab_type": "code",
    "id": "UvFuhey1YsxJ",
    "outputId": "4abef1b7-c304-49f5-bb0c-a752664623ab"
   },
   "outputs": [
    {
     "name": "stdout",
     "output_type": "stream",
     "text": [
      "3\n"
     ]
    },
    {
     "data": {
      "image/png": "[encoded data removed]",
      "text/plain": [
       "<Figure size 720x720 with 9 Axes>"
      ]
     },
     "metadata": {
      "needs_background": "light",
      "tags": []
     },
     "output_type": "display_data"
    }
   ],
   "source": [
    "plot_top_losses(test_labels,test_pred,k=8)"
   ]
  },
  {
   "cell_type": "markdown",
   "metadata": {},
   "source": [
    "## Callback function"
   ]
  },
  {
   "cell_type": "code",
   "execution_count": 0,
   "metadata": {
    "colab": {},
    "colab_type": "code",
    "id": "fGWwFuoSYwxI"
   },
   "outputs": [],
   "source": [
    "class top_k_loss(tf.keras.callbacks.Callback):\n",
    "  def __init__(self, k=3):\n",
    "    self.k = k\n",
    "    super(top_k_loss, self).__init__()\n",
    "    self.top_loss = {}\n",
    "  def on_epoch_end(self, epoch, logs=None):\n",
    "    train_pred = self.model.predict(train_images)\n",
    "    loss_values = self.model.loss(train_labels,train_pred).numpy()\n",
    "    top_k = loss_values.argsort()[-self.k:][::-1]\n",
    "    for index in top_k:\n",
    "      actual_class = train_labels[index]\n",
    "      loss_value = loss_values[index]\n",
    "      predicted_class = np.argmax(train_pred[index])\n",
    "      prob = train_pred[index][predicted_class]\n",
    "      self.top_loss[epoch] = [predicted_class,actual_class,loss_value,prob,index]"
   ]
  }
 ],
 "metadata": {
  "colab": {
   "name": "plot_losses.ipynb",
   "provenance": []
  },
  "kernelspec": {
   "display_name": "Python 3",
   "language": "python",
   "name": "python3"
  },
  "language_info": {
   "codemirror_mode": {
    "name": "ipython",
    "version": 3
   },
   "file_extension": ".py",
   "mimetype": "text/x-python",
   "name": "python",
   "nbconvert_exporter": "python",
   "pygments_lexer": "ipython3",
   "version": "3.7.6"
  }
 },
 "nbformat": 4,
 "nbformat_minor": 1
}
